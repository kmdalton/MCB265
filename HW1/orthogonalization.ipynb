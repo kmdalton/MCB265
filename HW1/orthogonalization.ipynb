{
 "cells": [
  {
   "cell_type": "code",
   "execution_count": null,
   "id": "bf6af100-67e9-4517-8f5c-d7d215084810",
   "metadata": {},
   "outputs": [],
   "source": [
    "import numpy as np\n",
    "import gemmi"
   ]
  },
  {
   "cell_type": "code",
   "execution_count": null,
   "id": "bf099430-c114-4cc5-a8b2-7d66d08ae81a",
   "metadata": {},
   "outputs": [],
   "source": [
    "# Define unit cell parameters\n",
    "a,b,c = 34., 45., 98. #Cell axes in Å \n",
    "alpha,beta,gamma = 90., 90., 90. #Cell angles in degrees\n",
    "\n",
    "# Construct a gemmi UnitCell object\n",
    "uc = gemmi.UnitCell(a, b, c, alpha, beta, gamma)\n",
    "\n",
    "# Gemmi automatically computes an orthogonalization matrix for you\n",
    "orthogonalization_matrix_gemmi = uc.orthogonalization_matrix\n",
    "\n",
    "# The matrix needs to be converted to numpy\n",
    "orthogonalization_matrix_list = orthogonalization_matrix_gemmi.tolist()\n",
    "O = np.array(orthogonalization_matrix_list)\n",
    "print(O)"
   ]
  },
  {
   "cell_type": "code",
   "execution_count": null,
   "id": "f769e828-b9f0-4069-8c7f-a82e57e4c80f",
   "metadata": {},
   "outputs": [],
   "source": [
    "# Using the orthogonalization matrix\n",
    "# Define fractional coordinates\n",
    "X = np.array([0.25, 0.5, 1.])\n",
    "\n",
    "# Calculate Cartesian coordinates\n",
    "# @ is the python symbol that means \"matrix multiplication\"\n",
    "x = O@X\n",
    "print(x)"
   ]
  },
  {
   "cell_type": "code",
   "execution_count": null,
   "id": "87967218-8a3a-47b5-b173-d39b88ec1a56",
   "metadata": {},
   "outputs": [],
   "source": [
    "# Gemmi also calculates the de-orthogonalization (aka fractionalization) matrix\n",
    "F = np.array(uc.fractionalization_matrix.tolist())\n",
    "\n",
    "# Applying the fractionalization matrix to Cartesian coordinates, x, should give us back X\n",
    "print(np.isclose(F@x,  X))\n",
    "# Note that the numbers may not match _exactly_ due to numerical precision errors \n",
    "# (computers only allocate a finite amount of memory to represent each number)\n",
    "# This is why we use `np.isclose` to check for equivalence"
   ]
  },
  {
   "cell_type": "code",
   "execution_count": null,
   "id": "75f05ffe-7d30-49ab-b5ca-8388b9bc294c",
   "metadata": {},
   "outputs": [],
   "source": [
    "# Fractional coordinates can be batched\n",
    "X1 = [0.25, 0.50, 1.00]\n",
    "X2 = [0.50, 0.50, 0.10]\n",
    "X3 = [0.35, 0.50, 0.40]\n",
    "X4 = [0.95, 0.70, 0.20]\n",
    "\n",
    "# Each coordinate is a column in the 3x4 matrix, *X*\n",
    "X = np.column_stack((X1, X2, X3, X4))\n",
    "\n",
    "# The orthogonalization operator can transform all the coordinates in a single matrix multiply\n",
    "# This is more efficient when you have a lot of coordinates\n",
    "x = O@X\n",
    "x1,x2,x3,x4 = x.T\n",
    "\n",
    "print(x1)\n",
    "print(x2)\n",
    "print(x3)\n",
    "print(x4)"
   ]
  }
 ],
 "metadata": {
  "kernelspec": {
   "display_name": "Python 3 (ipykernel)",
   "language": "python",
   "name": "python3"
  },
  "language_info": {
   "codemirror_mode": {
    "name": "ipython",
    "version": 3
   },
   "file_extension": ".py",
   "mimetype": "text/x-python",
   "name": "python",
   "nbconvert_exporter": "python",
   "pygments_lexer": "ipython3",
   "version": "3.8.5"
  }
 },
 "nbformat": 4,
 "nbformat_minor": 5
}
