{
 "cells": [
  {
   "cell_type": "code",
   "execution_count": 1,
   "id": "bf6af100-67e9-4517-8f5c-d7d215084810",
   "metadata": {},
   "outputs": [],
   "source": [
    "import numpy as np\n",
    "import gemmi"
   ]
  },
  {
   "cell_type": "code",
   "execution_count": 14,
   "id": "bf099430-c114-4cc5-a8b2-7d66d08ae81a",
   "metadata": {},
   "outputs": [],
   "source": [
    "a,b,c = 34., 45., 98. #Cell axes in Å \n",
    "alpha,beta,gamma = 90., 90., 90. #Cell angles in degrees\n",
    "\n",
    "# Construct a gemmi UnitCell object\n",
    "uc = gemmi.UnitCell(a, b, c, alpha, beta, gamma)\n",
    "\n",
    "# Gemmi automatically computes an orthogonalization matrix for you\n",
    "orthogonalization_matrix_gemmi = uc.orthogonalization_matrix\n",
    "\n",
    "# The matrix needs to be converted to numpy\n",
    "orthogonalization_matrix_list = orthogonalization_matrix_gemmi.tolist()\n",
    "orthogonalization_matrix_numpy = np.array(orthogonalization_matrix_list)\n",
    "\n"
   ]
  },
  {
   "cell_type": "code",
   "execution_count": null,
   "id": "f769e828-b9f0-4069-8c7f-a82e57e4c80f",
   "metadata": {},
   "outputs": [],
   "source": []
  }
 ],
 "metadata": {
  "kernelspec": {
   "display_name": "Python 3 (ipykernel)",
   "language": "python",
   "name": "python3"
  },
  "language_info": {
   "codemirror_mode": {
    "name": "ipython",
    "version": 3
   },
   "file_extension": ".py",
   "mimetype": "text/x-python",
   "name": "python",
   "nbconvert_exporter": "python",
   "pygments_lexer": "ipython3",
   "version": "3.8.5"
  }
 },
 "nbformat": 4,
 "nbformat_minor": 5
}
