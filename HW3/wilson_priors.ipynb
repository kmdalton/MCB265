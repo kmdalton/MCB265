{
 "cells": [
  {
   "cell_type": "code",
   "execution_count": null,
   "id": "9ddddcb1-1cf6-4c2f-a718-64e610624059",
   "metadata": {},
   "outputs": [],
   "source": [
    "import seaborn as sns\n",
    "from matplotlib import pyplot as plt\n",
    "import numpy as np\n",
    "\n",
    "# Simulate the random atom model for a lattice with one type of element\n",
    "n = 10_000 #samples\n",
    "s = 10 #atoms\n",
    "\n",
    "f0 = 1 #Magnitude of the scattering factor\n",
    "h = np.array([1., 3., 2.]) #Miller index\n",
    "\n",
    "x = np.random.random((n, 3, s)) #Fractional coordinates of atoms\n",
    "phase = 2*np.pi*np.matmul(h, x) #Phase of scattered waves\n",
    "F = f0*np.exp(1j*phase).sum(1)\n",
    "\n",
    "# Plot complex plane\n",
    "cmapname = 'cividis'\n",
    "marginal_color = plt.get_cmap(cmapname)(0.)\n",
    "res = sns.jointplot(\n",
    "    x=np.real(F),\n",
    "    y=np.imag(F),\n",
    "    cmap=cmapname,\n",
    "    kind='kde',\n",
    "    marginal_kws={'color' : marginal_color},\n",
    ").set_axis_labels(\n",
    "    '$\\mathbb{Re}$',\n",
    "    '$\\mathbb{Im}$',\n",
    "    fontsize=16,\n",
    ")\n",
    "res.ax_joint.grid(ls='-.')\n",
    "plt.tight_layout()\n"
   ]
  },
  {
   "cell_type": "code",
   "execution_count": null,
   "id": "b73d5d1e-c248-4810-9763-2e925a838426",
   "metadata": {},
   "outputs": [],
   "source": [
    "# The numpy array `F` contains samples from the random atom model as complex numbers\n",
    "# Replace `None` in the line below with the appropriate formula for centric amplitudes\n",
    "plt.figure()\n",
    "sns.histplot(\n",
    "    data={\n",
    "        'acentric' : np.abs(F),\n",
    "        'centric'  : None, #<--Fill me in!\n",
    "    },\n",
    "    stat='density',\n",
    ")\n",
    "plt.xlabel(\"$|F|$\", size=16)\n",
    "plt.tight_layout()"
   ]
  }
 ],
 "metadata": {
  "kernelspec": {
   "display_name": "Python 3 (ipykernel)",
   "language": "python",
   "name": "python3"
  },
  "language_info": {
   "codemirror_mode": {
    "name": "ipython",
    "version": 3
   },
   "file_extension": ".py",
   "mimetype": "text/x-python",
   "name": "python",
   "nbconvert_exporter": "python",
   "pygments_lexer": "ipython3",
   "version": "3.8.12"
  }
 },
 "nbformat": 4,
 "nbformat_minor": 5
}
