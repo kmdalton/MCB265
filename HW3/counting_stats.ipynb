{
 "cells": [
  {
   "cell_type": "code",
   "execution_count": null,
   "id": "a5017bb5-6e1a-4db6-9f1c-82322e7fde6c",
   "metadata": {},
   "outputs": [],
   "source": [
    "from matplotlib import pyplot as plt\n",
    "import numpy as np\n",
    "import seaborn as sns\n",
    "import pandas as pd\n",
    "from scipy.stats.distributions import poisson,norm\n",
    "\n",
    "def simulate_pixel(photon_rate, readout_noise, samples=1):\n",
    "    \"\"\"\n",
    "    Simulate the output of a detector pixel based on \n",
    "     - The `photon_rate` in photons per exposure time\n",
    "     - The pixel `readout_noise` in photons\n",
    "    This implements a very simple model where the counts\n",
    "    follow the Poisson distribution, readout noise is\n",
    "    normally distributed, and the outputs are digitized.\n",
    "    \"\"\"\n",
    "    #Draw the number of photon events from a Poisson distribution\n",
    "    true_counts = poisson.rvs(photon_rate, size=samples)\n",
    "    # Observed_counts before digitization with normal readout noise\n",
    "    observed_counts = norm.rvs(loc=true_counts, scale=readout_noise, size=samples)\n",
    "    return observed_counts\n"
   ]
  },
  {
   "cell_type": "code",
   "execution_count": null,
   "id": "fa4ae201-ed12-451d-beb3-d76723507964",
   "metadata": {},
   "outputs": [],
   "source": [
    "rates = [10., 100., 1000.]\n",
    "#rates = [0., 1.]\n",
    "\n",
    "multiplicity = 5\n",
    "readout_noises = [0., 2.]\n",
    "\n",
    "df = None\n",
    "for readout_noise in readout_noises:\n",
    "    for rate in rates:\n",
    "        _df = pd.DataFrame({\n",
    "            'Counts (photons / exposure)' : simulate_pixel(rate, readout_noise=readout_noise, samples=multiplicity),\n",
    "            'Readout Noise (photons)' : readout_noise,\n",
    "            'Ground Truth Rate' : rate,\n",
    "        })\n",
    "        df = pd.concat((df, _df))\n",
    "\n",
    "\n",
    "sns.swarmplot(\n",
    "    x='Ground Truth Rate', \n",
    "    y='Counts (photons / exposure)', \n",
    "    hue='Readout Noise (photons)', \n",
    "    data=df, \n",
    "    palette='Set2', \n",
    "    dodge=True\n",
    ")\n"
   ]
  }
 ],
 "metadata": {
  "kernelspec": {
   "display_name": "Python 3 (ipykernel)",
   "language": "python",
   "name": "python3"
  },
  "language_info": {
   "codemirror_mode": {
    "name": "ipython",
    "version": 3
   },
   "file_extension": ".py",
   "mimetype": "text/x-python",
   "name": "python",
   "nbconvert_exporter": "python",
   "pygments_lexer": "ipython3",
   "version": "3.8.12"
  }
 },
 "nbformat": 4,
 "nbformat_minor": 5
}
