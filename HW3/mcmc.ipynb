{
 "cells": [
  {
   "cell_type": "code",
   "execution_count": null,
   "id": "8e068861-94e9-48f2-ad45-143b363a0d15",
   "metadata": {},
   "outputs": [],
   "source": [
    "import numpy as np\n",
    "import pandas as pd\n",
    "import seaborn as sns\n",
    "import pymc3 as pm\n",
    "\n",
    "#MCMC settings\n",
    "chain_length = 1_000\n",
    "burnin = 500\n",
    "\n",
    "#Observed I and SigI\n",
    "I = [-3., 0., 1., 3.]\n",
    "SigI =  1.\n",
    "\n",
    "#Scale factor\n",
    "Sigma = 1.\n",
    "\n",
    "#Gamma prior params\n",
    "#Gamma(J|alpha,beta) ∝ J^(alpha-1) * exp(-beta * J)\n",
    "alpha = 1.0\n",
    "beta = 1. / Sigma\n",
    "\n",
    "with pm.Model() as model:\n",
    "    #Sample from the prior P(J)\n",
    "    J = pm.distributions.Gamma('Wilson', alpha, beta, shape=len(I))\n",
    "    #Notice this distribution has an `observed` keyword argument indicating this is where data enters the model\n",
    "    likelihood = pm.distributions.Normal('Likelihood', mu=J, sigma=SigI, observed=I)\n",
    "    #The trace object will store the posterior samples\n",
    "    trace = pm.sample(draws=chain_length, tune=burnin)\n",
    "\n",
    "#These are samples from the posterior P(J|I)\n",
    "samples = trace.get_values('Wilson')\n",
    "data = pd.DataFrame({\n",
    "    \"J\" : samples.flatten(),\n",
    "    \"I\" : (np.ones_like(samples)*I).flatten(),\n",
    "})\n",
    "\n",
    "\n",
    "sns.histplot(x='J', data=data, hue='I', palette='Set2', stat='density')\n",
    "plt.title(\"Posterior P(J|I)\")\n",
    "\n",
    "#Compute the posterior mean and uncertainty from the samples\n",
    "data.groupby('I').apply(lambda x: pd.Series({'$\\langle J\\rangle$': x.J.mean(), '$\\sigma_J$': x.J.std()}))"
   ]
  }
 ],
 "metadata": {
  "kernelspec": {
   "display_name": "Python 3 (ipykernel)",
   "language": "python",
   "name": "python3"
  },
  "language_info": {
   "codemirror_mode": {
    "name": "ipython",
    "version": 3
   },
   "file_extension": ".py",
   "mimetype": "text/x-python",
   "name": "python",
   "nbconvert_exporter": "python",
   "pygments_lexer": "ipython3",
   "version": "3.8.12"
  }
 },
 "nbformat": 4,
 "nbformat_minor": 5
}
