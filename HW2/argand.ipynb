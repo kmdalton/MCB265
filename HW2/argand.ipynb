{
 "cells": [
  {
   "cell_type": "code",
   "execution_count": null,
   "id": "c8b7e268-a05a-47d3-a655-d2de02ead6f1",
   "metadata": {},
   "outputs": [],
   "source": [
    "from matplotlib import pyplot as plt\n",
    "import numpy as np\n",
    "import reciprocalspaceship as rs\n",
    "import requests\n",
    "\n",
    "# This cell defines several helpful functions for dealing with complex structure factors and Argand diagrams\n",
    "def to_amplitude_and_phase(cplx, deg=True):\n",
    "    \"\"\" Convert complex numbers, cplx, to amplitudes and phases\"\"\"\n",
    "    amplitude = np.abs(cplx)\n",
    "    phase = np.angle(cplx)\n",
    "    if deg:\n",
    "        phase = np.rad2deg(phase)\n",
    "    return amplitude, phase\n",
    "\n",
    "def to_cmplx(amplitude, phase, deg=True):\n",
    "    \"\"\" Convert amplitudes and phases to complex numbers \"\"\"\n",
    "    if deg:\n",
    "        phase = np.deg2rad(phase)\n",
    "    cplx = amplitude * np.exp(1j*phase)\n",
    "    return cplx\n",
    "\n",
    "def arrow(x1, y1, x2, y2, head_scale=0.1, head_width=None, **kwargs):\n",
    "    \"\"\" Plot an arrow from x1,y1 -> x2,y2 \"\"\"\n",
    "    dx,dy = x2-x1,y2-y1\n",
    "    norm = np.sqrt(dx*dx + dy*dy)\n",
    "    l = head_scale*norm\n",
    "    w = head_width if head_width is not None else 1.0*l\n",
    "    plt.arrow(x1, y1, dx, dy, head_width=w, head_length=l, length_includes_head=True, **kwargs)\n",
    "\n",
    "def argand(cplx1, cplx2, color='k', **kwargs):\n",
    "    \"\"\" Add an arrow pointing from cplx1 to cplx2 in the complex plane \"\"\"\n",
    "    x1,y1 = np.real(cplx1),np.imag(cplx1)\n",
    "    x2,y2 = np.real(cplx2),np.imag(cplx2)\n",
    "    arrow(x1, y1, x2, y2, ec=color, fc=color, **kwargs)\n",
    "\n",
    "    #axis labels\n",
    "    plt.xlabel(\"$\\mathbb{Re}$\", fontsize=20)\n",
    "    plt.ylabel(\"$\\mathbb{Im}$\", fontsize=20)\n",
    "    \n",
    "    #modify the axis limits to keep everything in the plot\n",
    "    #no need to understand this\n",
    "    lim = 1.05*max(np.abs(cplx1), np.abs(cplx2))\n",
    "    lim = max(plt.gca().get_xlim()[1], lim)\n",
    "    plt.xlim(-lim, lim)\n",
    "    plt.ylim(-lim, lim)\n",
    "    plt.gca().set_aspect('equal')\n",
    "    plt.grid(ls='-.')   \n",
    "\n",
    "#Define some nice, colorblind-friendly colors\n",
    "c1,c2,c3 = \"#1b9e77\", \"#d95f02\", \"#7570b3\"\n",
    "\n"
   ]
  },
  {
   "cell_type": "code",
   "execution_count": null,
   "id": "1da59443-27d1-4f8e-9b3d-6ef62d641e47",
   "metadata": {},
   "outputs": [],
   "source": [
    "#Download an mtz File from RCSB\n",
    "PDBID=\"1lzt\"\n",
    "mtz_url = f\"https://edmaps.rcsb.org/coefficients/{PDBID}.mtz\"\n",
    "mtz_file = f\"{PDBID}.mtz\"\n",
    "response = requests.get(mtz_url)\n",
    "with open(mtz_file, 'wb') as out:\n",
    "    out.write(response.content)\n",
    "\n",
    "#Load the mtz file using reciprocalspaceship\n",
    "#dataset is an rs.DataSet object -- essentially a pandas DataFrame that understand crystallography\n",
    "#pandas https://pandas.pydata.org/docs\n",
    "#reciprocalspaceship https://hekstra-lab.github.io/reciprocalspaceship/\n",
    "dataset = rs.read_mtz(mtz_file)\n",
    "\n",
    "#Show the first 10 reflections in the dataset\n",
    "dataset.head(10)"
   ]
  },
  {
   "cell_type": "code",
   "execution_count": null,
   "id": "186e2e66-754e-4c5b-881b-1994901a344e",
   "metadata": {},
   "outputs": [],
   "source": [
    "#Sample two *acentric* structure factors at random\n",
    "sample = dataset.acentrics.sample(2)\n",
    "\n",
    "#Use the \n",
    "# - experimental structure factor amplitudes (FP column)\n",
    "# - phases calculated from the atomic model (PHIC column)\n",
    "F1,F2 = sample.to_structurefactor('FP', 'PHIC')\n",
    "#^^F1 and F2 are complex numbers\n",
    "\n",
    "print(f\"\"\"\n",
    "#Amplitude and phase representation\n",
    "AMPLITUDE1,PHI1 = {np.abs(F1), np.rad2deg(np.angle(F1))}\n",
    "AMPLITUDE2,PHI2 = {np.abs(F2), np.rad2deg(np.angle(F2))}\n",
    "\n",
    "#Complex number representation\n",
    "F1 = {F1}\n",
    "F2 = {F2}\n",
    "\"\"\")"
   ]
  },
  {
   "cell_type": "code",
   "execution_count": null,
   "id": "8d7989dd-da1f-436a-8643-b1f69a863647",
   "metadata": {},
   "outputs": [],
   "source": [
    "plt.figure()\n",
    "argand(0., F1, color=c1, label='F1')\n",
    "argand(0., F2, color=c2, label='F2')\n",
    "lim = max(np.abs(F1), np.abs(F2))\n",
    "plt.legend()"
   ]
  },
  {
   "cell_type": "code",
   "execution_count": null,
   "id": "f3354c63-d195-4a16-9b9a-f4be3e130ea7",
   "metadata": {},
   "outputs": [],
   "source": [
    "#Example: complex conjugates\n",
    "F1star = np.conjugate(F1)\n",
    "F2star = np.conjugate(F2)\n",
    "\n",
    "plt.figure()\n",
    "argand(0., F1star, color=c1, label='F1*')\n",
    "argand(0., F2star, color=c2, label='F2*')\n",
    "plt.legend()"
   ]
  },
  {
   "cell_type": "code",
   "execution_count": null,
   "id": "629ebbe5-03df-4b16-9a22-1b6bcfcc3cfd",
   "metadata": {},
   "outputs": [],
   "source": [
    "# Example: Adding structure factors in the complex plane\n",
    "F3 = F1 + F2 \n",
    "\n",
    "plt.figure()\n",
    "argand(0, F1, color=c1, label='F1')\n",
    "argand(0, F2, color=c2, label='F2')\n",
    "argand(0, F3, color=c3, label='F1 + F2')\n",
    "plt.legend()\n",
    "\n",
    "plt.figure()\n",
    "argand(0, F1, color=c1, label='F1')\n",
    "argand(F1, F3, color=c2, label='F2')\n",
    "argand(0, F3, color=c3, label='F1 + F2')\n",
    "plt.legend()"
   ]
  },
  {
   "cell_type": "code",
   "execution_count": null,
   "id": "199f36ad-f4f7-4a49-8863-e9a94f5878a9",
   "metadata": {},
   "outputs": [],
   "source": [
    "# Example: Rotating structure factors in the complex plane\n",
    "deltaphi = 70. #degrees\n",
    "radians = np.deg2rad(deltaphi)\n",
    "F4 = F1*np.exp(1j*radians)\n",
    "argand(0, F1, color=c1, label='F1')\n",
    "argand(0, F4, color=c2, label='F4')\n",
    "plt.legend()\n",
    "plt.title(f\"The angle between F1 and F4 is: {deltaphi} $^\\circ$.\")"
   ]
  }
 ],
 "metadata": {
  "kernelspec": {
   "display_name": "Python 3 (ipykernel)",
   "language": "python",
   "name": "python3"
  },
  "language_info": {
   "codemirror_mode": {
    "name": "ipython",
    "version": 3
   },
   "file_extension": ".py",
   "mimetype": "text/x-python",
   "name": "python",
   "nbconvert_exporter": "python",
   "pygments_lexer": "ipython3",
   "version": "3.8.12"
  }
 },
 "nbformat": 4,
 "nbformat_minor": 5
}
